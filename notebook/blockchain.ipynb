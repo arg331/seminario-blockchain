{
  "cells": [
    {
      "cell_type": "markdown",
      "metadata": {
        "id": "_7q4UKk2_l0y"
      },
      "source": [
        "# Transacciones\n",
        "\n",
        "En la blockchain que vamos a utilizar en este seminario, se ha diseñado una transacción básica que contiene los siguientes datos:\n",
        "\n",
        "- **Pagador:** Identificador del usuario que envía la transacción.\n",
        "- **Receptor:** Identificador del usuario que recibe la transacción.\n",
        "- **Cantidad:** Cantidad de dinero transferido."
      ]
    },
    {
      "cell_type": "code",
      "execution_count": 14,
      "metadata": {
        "id": "tzZStBpo_j08"
      },
      "outputs": [],
      "source": [
        "from typing import Dict\n",
        "\n",
        "# Clase para almacenar los datos de una transacción\n",
        "class Transaccion:\n",
        "    def __init__(self, pagador: str, receptor: str, cantidad: float):\n",
        "        self.pagador = pagador\n",
        "        self.receptor = receptor\n",
        "        self.cantidad = cantidad\n",
        "\n",
        "    # Devuelve los datos de la transacción en un diccionario\n",
        "    def convert_to_dict(self) -> Dict:\n",
        "        return {\n",
        "            'pagador': self.pagador,\n",
        "            'receptor': self.receptor,\n",
        "            'cantidad': self.cantidad\n",
        "        }\n",
        "\n",
        "    # Convertimos a un string el contenido de la transacción\n",
        "    def __str__(self) -> str:\n",
        "        return f\"{self.pagador} envia a {self.receptor} la cantidad de {self.cantidad}\"\n"
      ]
    },
    {
      "cell_type": "markdown",
      "metadata": {
        "id": "snB5s5zxAOXh"
      },
      "source": [
        "Creamos una transacción de ejemplo."
      ]
    },
    {
      "cell_type": "code",
      "execution_count": 13,
      "metadata": {
        "id": "U1X2dUt9_wj4"
      },
      "outputs": [],
      "source": [
        "# Creamos una transacción\n",
        "t1 = Transaccion(\"Pepe\", \"Juan\", 20)"
      ]
    },
    {
      "cell_type": "markdown",
      "metadata": {
        "id": "KaZhoz-LAXu2"
      },
      "source": [
        "Utilizamos el método `convert_to_dict()` para convertir la transacción en un objetio de tipo diccionario."
      ]
    },
    {
      "cell_type": "code",
      "execution_count": 12,
      "metadata": {
        "colab": {
          "base_uri": "https://localhost:8080/"
        },
        "id": "svkhPssFAT_x",
        "outputId": "d844f757-e519-4b0d-fb50-4395808f3be5"
      },
      "outputs": [
        {
          "data": {
            "text/plain": [
              "{'pagador': 'Pepe', 'receptor': 'Juan', 'cantidad': 20}"
            ]
          },
          "execution_count": 12,
          "metadata": {},
          "output_type": "execute_result"
        }
      ],
      "source": [
        "# Convertimos la transacción a un diccionario\n",
        "t1.convert_to_dict()"
      ]
    },
    {
      "cell_type": "markdown",
      "metadata": {
        "id": "mftdnfVzAoos"
      },
      "source": [
        "En el siguiente ejemplo vamos a ver la utilidad del método `__str__` cuando se imprima el objeto."
      ]
    },
    {
      "cell_type": "code",
      "execution_count": 11,
      "metadata": {
        "colab": {
          "base_uri": "https://localhost:8080/"
        },
        "id": "5Rgk4bM5AKoh",
        "outputId": "c149d50d-4e9e-4118-e812-eef8ea0db8fd"
      },
      "outputs": [
        {
          "name": "stdout",
          "output_type": "stream",
          "text": [
            "Pepe envia a Juan la cantidad de 20\n"
          ]
        }
      ],
      "source": [
        "# Imprimimos el contenido de la transacción\n",
        "print(t1)"
      ]
    },
    {
      "cell_type": "markdown",
      "metadata": {
        "id": "3ta3F_2lBBvR"
      },
      "source": [
        "# Árbol de Merkle\n",
        "\n",
        "Un árbol de Merkle es una estructura de datos en árbol en el que cada nodo que no es una hoja está etiquetado con el hash que resulta de concatenar los hashes de sus nodos hijo."
      ]
    },
    {
      "cell_type": "code",
      "execution_count": 16,
      "metadata": {
        "id": "XQqufYi0Cj7y"
      },
      "outputs": [],
      "source": [
        "from typing import List\n",
        "\n",
        "# Clase para implementar un árbol de Merkle que almacena las transacciones de un bloque.\n",
        "# Mirar los apuntes de EDA.\n",
        "class MerkleTree:\n",
        "    def __init__(self, l_transacciones: List[Transaccion]):\n",
        "        self.l_transacciones = l_transacciones\n",
        "        self.root, self.niveles = self.construir_merkle_tree()\n",
        "\n",
        "    def construir_merkle_tree(self) -> tuple[str, List[List[str]]]:\n",
        "        if not self.l_transacciones:\n",
        "            return \"\", []\n",
        "\n",
        "        # Generamos los hashs de la lista de transacciones (Versión Iterativa)\n",
        "        hojas = []\n",
        "        for tx in self.l_transacciones:\n",
        "            # (1) Convertimos la transacción en un diccionario: tx.convert_to_dict()\n",
        "            # (2) Convertimos el diccionario en una cadena: str(tx.convert_to_dict())\n",
        "            # (3) Convertimos la cadena a bytes: str(tx.to_dict()).encode()\n",
        "            # (4) Creamos el hash de la transacción y obtenemos su resumen en hexadecimal: hashlib.sha256(...).hexdigest()\n",
        "            hash_transaccion = hashlib.sha256(str(tx.convert_to_dict()).encode()).hexdigest()\n",
        "\n",
        "            # Añadimos el hash a la lista de hojas\n",
        "            hojas.append(hash_transaccion)\n",
        "\n",
        "        # Guardamos los niveles del árbol de Merkle\n",
        "        niveles = [hojas]\n",
        "\n",
        "        # Si son más transacciones, calculamos los hash de cada una de ellas y construimos el árbol\n",
        "        # Construimos el árbol, de abajo a arriba\n",
        "        # Acordaos de lo que habéis visto en EDA\n",
        "        nivel_actual = hojas\n",
        "        while len(nivel_actual) > 1:\n",
        "            nivel_temp = []\n",
        "            for i in range(0, len(nivel_actual), 2):\n",
        "                if i + 1 < len(nivel_actual):\n",
        "                    # Juntamos dos hojas\n",
        "                    combined = nivel_actual[i] + nivel_actual[i + 1]\n",
        "                    nuevo_hash = hashlib.sha256(combined.encode()).hexdigest()\n",
        "                    nivel_temp.append(nuevo_hash)\n",
        "                else:\n",
        "                    # Hoja impar primero\n",
        "                    nivel_temp.append(nivel_actual[i])\n",
        "            niveles.append(nivel_temp)\n",
        "            nivel_actual = nivel_temp\n",
        "\n",
        "        return nivel_actual[0], niveles\n",
        "\n",
        "    def mostrar_niveles(self) -> None:\n",
        "        print(\"\\nNiveles del Árbol de Merkle:\")\n",
        "        for idx, nivel in enumerate(reversed(self.niveles)):\n",
        "            print(f\"\\tNivel {idx} (desde la raíz):\")\n",
        "            for hash in nivel:\n",
        "                print(f\"\\t\\t{hash}\")\n"
      ]
    },
    {
      "cell_type": "markdown",
      "metadata": {
        "id": "QwbPZ6YZCtnG"
      },
      "source": [
        "Vamos a crear un árbol de Merkle de ejemplo con 4 transacciones."
      ]
    },
    {
      "cell_type": "code",
      "execution_count": 19,
      "metadata": {
        "id": "xVGoMzjTCyx3"
      },
      "outputs": [],
      "source": [
        "# Creamos una lista con 4 transacciones de ejemplo\n",
        "lista_transacciones = [Transaccion(\"Pepe\", \"Juan\", 10), Transaccion(\"María\", \"Lucía\", 20), Transaccion(\"Antonio\", \"Ramón\",30), Transaccion(\"Carmen\", \"Marta\", 40)]\n"
      ]
    },
    {
      "cell_type": "markdown",
      "metadata": {
        "id": "Btmp5O6mDiml"
      },
      "source": [
        "Una vez que hemos creado la lista de transacciones ya podemos crear el árbol de Merkle."
      ]
    },
    {
      "cell_type": "code",
      "execution_count": 22,
      "metadata": {
        "id": "avKb3iE1DQe8"
      },
      "outputs": [],
      "source": [
        "import hashlib\n",
        "\n",
        "# Creamos un objeto de tipo MerkleTree\n",
        "arbol_merkle = MerkleTree(lista_transacciones)"
      ]
    },
    {
      "cell_type": "markdown",
      "metadata": {
        "id": "_-kFxTZtDnTJ"
      },
      "source": [
        "Mostramos los niveles del árbol haciendo uso del método `mostrar_niveles`."
      ]
    },
    {
      "cell_type": "code",
      "execution_count": 23,
      "metadata": {
        "colab": {
          "base_uri": "https://localhost:8080/"
        },
        "id": "YFRYVKChDszI",
        "outputId": "1081ebde-a6bf-424c-e845-f32d9e28e73a"
      },
      "outputs": [
        {
          "name": "stdout",
          "output_type": "stream",
          "text": [
            "\n",
            "Niveles del Árbol de Merkle:\n",
            "\tNivel 0 (desde la raíz):\n",
            "\t\t6d84b95380981201807f01b53207747bb2d1e69b8fab3865db32b7df554153ff\n",
            "\tNivel 1 (desde la raíz):\n",
            "\t\ta21abd09aaa11e0e32a209daa7fbd54f5f4ca24838167a58f49972295a04623b\n",
            "\t\t73854883a00e4bfde544c29fc1f78c139f80074c109e307497db509c6cc4e5ee\n",
            "\tNivel 2 (desde la raíz):\n",
            "\t\teaf25202eacc17b609e7afb0e687994b8aec4e7be2f5c3fe1133145cffe20978\n",
            "\t\tf83509de6ace20c946229280efa601ead5e6dfb70742da9aef29bf0c5494f2e5\n",
            "\t\t2b45b7265fd7fff1021323d13d64f93e6cdf78d7b04a6aa05aaf0eae360bc40b\n",
            "\t\t9f8846814eea1c3f9ea4037b3bcc4005c6cc6b6a57e114a360ca9b7bad97ae63\n"
          ]
        }
      ],
      "source": [
        "arbol_merkle.mostrar_niveles()"
      ]
    },
    {
      "cell_type": "markdown",
      "metadata": {
        "id": "V0wrPRNzD1XR"
      },
      "source": [
        "Al crear el árbol podemos obtener la raíz del árbol y una lista con todos los niveles del árbol."
      ]
    },
    {
      "cell_type": "code",
      "execution_count": 24,
      "metadata": {
        "id": "-tyLyM7QEAB6"
      },
      "outputs": [],
      "source": [
        "root, niveles = arbol_merkle.construir_merkle_tree()\n"
      ]
    },
    {
      "cell_type": "markdown",
      "metadata": {
        "id": "ltQbyGWPE9Oy"
      },
      "source": [
        "Mostramos el hash del nodo raíz."
      ]
    },
    {
      "cell_type": "code",
      "execution_count": 25,
      "metadata": {
        "colab": {
          "base_uri": "https://localhost:8080/"
        },
        "id": "rsX2_xj2E7rf",
        "outputId": "a468be61-216c-4f0d-f34b-85425a26b015"
      },
      "outputs": [
        {
          "name": "stdout",
          "output_type": "stream",
          "text": [
            "6d84b95380981201807f01b53207747bb2d1e69b8fab3865db32b7df554153ff\n"
          ]
        }
      ],
      "source": [
        "print(root)"
      ]
    },
    {
      "cell_type": "markdown",
      "metadata": {
        "id": "tu8QuyEAFA4z"
      },
      "source": [
        "Mostramos la lista de niveles."
      ]
    },
    {
      "cell_type": "code",
      "execution_count": 26,
      "metadata": {
        "colab": {
          "base_uri": "https://localhost:8080/"
        },
        "id": "CMrNBqDgFEXe",
        "outputId": "f937204c-bd90-49d7-d578-4c82d9a47511"
      },
      "outputs": [
        {
          "name": "stdout",
          "output_type": "stream",
          "text": [
            "[['eaf25202eacc17b609e7afb0e687994b8aec4e7be2f5c3fe1133145cffe20978', 'f83509de6ace20c946229280efa601ead5e6dfb70742da9aef29bf0c5494f2e5', '2b45b7265fd7fff1021323d13d64f93e6cdf78d7b04a6aa05aaf0eae360bc40b', '9f8846814eea1c3f9ea4037b3bcc4005c6cc6b6a57e114a360ca9b7bad97ae63'], ['a21abd09aaa11e0e32a209daa7fbd54f5f4ca24838167a58f49972295a04623b', '73854883a00e4bfde544c29fc1f78c139f80074c109e307497db509c6cc4e5ee'], ['6d84b95380981201807f01b53207747bb2d1e69b8fab3865db32b7df554153ff']]\n"
          ]
        }
      ],
      "source": [
        "print(niveles)"
      ]
    },
    {
      "cell_type": "markdown",
      "metadata": {
        "id": "KL4SJtQ2FKDW"
      },
      "source": [
        "# Bloque\n",
        "\n",
        "Un bloque es la unidad básica de estructura de una blockchain. Funciona como un eslabón de la cadena que almacena datos y se conecta criptográficamente con los bloques anteriores y posteriores, formando una cadena inmutable.\n",
        "\n",
        "![](https://raw.githubusercontent.com/josejuansanchez/seminario-blockchain/refs/heads/main/images/blockchain_block_structure.png?token=GHSAT0AAAAAACZD4P4FUVL3URHAYWYSQ4K42BCUM7A)\n",
        "\n",
        "En la blockchain que vamos a utilizar en este seminario, se ha diseñado un bloque básico que contiene los siguientes datos:\n",
        "\n",
        "- **Hash del bloque:** Identificador único del bloque, generado a partir de su contenido. Se calcula mediante consenso.\n",
        "- **Hash del bloque anterior:** Identificador único del bloque anterior, asegurando la integridad de la cadena.\n",
        "- **Marca de tiempo:** Fecha y hora en que se creó el bloque.\n",
        "- **Lista de transacciones:** Lista de transacciones incluidas en el bloque.\n",
        "- **Árbol de Merkle:** Estructura de árbol que organiza las transacciones en pares cifrados. Nos permite verificar de forma sencilla si una transacción está incluida en el bloque.\n",
        "- **Merkle Root:** Hash de la raíz del árbol de Merkle.\n",
        "- **Nonce:** Número aleatorio utilizado en el proceso de minería (Proof of Work) para encontrar un hash válido."
      ]
    },
    {
      "cell_type": "code",
      "execution_count": 27,
      "metadata": {
        "id": "m7tGMrzoFSV7"
      },
      "outputs": [],
      "source": [
        "class Bloque:\n",
        "    def __init__(self, hash_anterior: str, l_transacciones: List[Transaccion], marca_de_tiempo: str):\n",
        "        self.hash_anterior = hash_anterior\n",
        "        self.marca_de_tiempo = marca_de_tiempo\n",
        "        self.l_transacciones = l_transacciones\n",
        "        self.merkle_tree = MerkleTree(l_transacciones)\n",
        "        self.merkle_root = self.merkle_tree.root\n",
        "        self.merkle_niveles = self.merkle_tree.niveles  # Guardamos todos los niveles del árbol\n",
        "        self.nonce = 0\n",
        "        self.hash = self.proof_of_work() # El cálculo de hash válido es necesario, pero no sería necesario almacenarlo\n",
        "\n",
        "    # Calculamos el hash de los siguientes atributos del bloque:\n",
        "    # - hash_anterior, marca_de_tiempo, merkle_root y nonce\n",
        "    def calculate_hash(self) -> str:\n",
        "        block_string = f\"{self.hash_anterior}{self.marca_de_tiempo}{self.merkle_root}{self.nonce}\"\n",
        "        return hashlib.sha256(block_string.encode()).hexdigest()\n",
        "\n",
        "    # Método que realiza la PoW (Proof of Work)\n",
        "    # Busca el número mágico (nonce) para conseguir un hash con el número inicial de 0s requerido.\n",
        "    # Es como la lotería. El que encuentre este número, gana y puede añadir el bloque.\n",
        "    # Con esto dificultamos el añadir bloques a un asaltante.\n",
        "    # Cuanto mayor número de 0s, más dificultad y más tiempo.\n",
        "    def proof_of_work(self) -> str:\n",
        "        while True:\n",
        "            hash_result = self.calculate_hash()\n",
        "            if hash_result.startswith(\"000\"):\n",
        "                return hash_result\n",
        "            self.nonce += 1\n",
        "\n",
        "    def __str__(self) -> str:\n",
        "        # Creamos una cadena con los niveles del árbol de hashes en el bloque\n",
        "        # La función reversed devuelve la lista en orden inverso sin modificar la lista original.\n",
        "        # La función enumerate nos permite iterar sobre la lista devolviendo el índice y el valor que hay en esa posición.\n",
        "        merkle_tree_str = \"\\nNiveles del Merckle Tree:\\n\"\n",
        "        for i, level in enumerate(reversed(self.merkle_niveles)):\n",
        "            merkle_tree_str += f\"  Level {i}:\\n\"\n",
        "            for hash_val in level:\n",
        "                merkle_tree_str += f\"    {hash_val}\\n\"\n",
        "\n",
        "        return (\n",
        "            f\"Bloque--------------------------------------------------------------------------------\\n\"\n",
        "            f\"Hash previo: {self.hash_anterior}\\n\"\n",
        "            f\"Marca de tiempo: {self.marca_de_tiempo}\\n\"\n",
        "            f\"Raiz del Merkle Tree: {self.merkle_root}\\n\"\n",
        "            f\"Nonce: {self.nonce}\\n\"\n",
        "            f\"Hash: {self.hash}\\n\" # Guardamos el hash, aunque no sería necesario\n",
        "            f\"Listado de transacciones:\\n\" +\n",
        "            \"\\n\".join([f\"  {tx}\" for tx in self.l_transacciones]) + \"\\n\" +\n",
        "            merkle_tree_str + \"\\n\" + f\"Fin de bloque--------------------------------------------------------\\n\"\n",
        "\n",
        "        )\n"
      ]
    },
    {
      "cell_type": "markdown",
      "metadata": {
        "id": "I9eusiREGJ0x"
      },
      "source": [
        "Creamos un bloque génesis (sin transacciones) de prueba."
      ]
    },
    {
      "cell_type": "code",
      "execution_count": 33,
      "metadata": {
        "colab": {
          "base_uri": "https://localhost:8080/",
          "height": 35
        },
        "id": "LcSawmCeGUq4",
        "outputId": "2c2922ae-7056-433d-80f5-526f004710e8"
      },
      "outputs": [
        {
          "data": {
            "application/vnd.google.colaboratory.intrinsic+json": {
              "type": "string"
            },
            "text/plain": [
              "'000ca25f4e94e53136fa28b9971c433fc7ed0f7a551a2adc4e792a10ff6620ec'"
            ]
          },
          "execution_count": 33,
          "metadata": {},
          "output_type": "execute_result"
        }
      ],
      "source": [
        "import time\n",
        "\n",
        "bloque_genesis = Bloque(\"00000000000000\", [], time.strftime(\"%Y-%m-%d %H:%M:%S\"))\n",
        "\n",
        "# Buscamos un hash que empiece con el número de 0s que le hemos indicado\n",
        "bloque_genesis.proof_of_work()"
      ]
    },
    {
      "cell_type": "markdown",
      "metadata": {
        "id": "PvfzOuveG8e9"
      },
      "source": [
        "Creamos un bloque con las transacciones que creamos en los pasos anteriores."
      ]
    },
    {
      "cell_type": "code",
      "execution_count": 40,
      "metadata": {
        "id": "1LwebeqOHH4B"
      },
      "outputs": [],
      "source": [
        "bloque = Bloque(bloque_genesis.hash, lista_transacciones, time.strftime(\"%Y-%m-%d %H:%M:%S\"))"
      ]
    },
    {
      "cell_type": "markdown",
      "metadata": {
        "id": "6afHP_wSHnQt"
      },
      "source": [
        "Imprimimos el contenido del bloque que acabamos de crear."
      ]
    },
    {
      "cell_type": "code",
      "execution_count": 42,
      "metadata": {
        "colab": {
          "base_uri": "https://localhost:8080/"
        },
        "id": "ngzt6F6iHt-v",
        "outputId": "e228808c-a9ec-4f41-eb0f-ebc658d57a24"
      },
      "outputs": [
        {
          "name": "stdout",
          "output_type": "stream",
          "text": [
            "Bloque--------------------------------------------------------------------------------\n",
            "Hash previo: 000ca25f4e94e53136fa28b9971c433fc7ed0f7a551a2adc4e792a10ff6620ec\n",
            "Marca de tiempo: 2025-05-13 00:49:49\n",
            "Raiz del Merkle Tree: 6d84b95380981201807f01b53207747bb2d1e69b8fab3865db32b7df554153ff\n",
            "Nonce: 1062\n",
            "Hash: 00048d4afeb97cb99d813c7167cc1f8bc1b5673e723711fbaba2080eba5edbc1\n",
            "Listado de transacciones:\n",
            "  Pepe envia a Juan la cantidad de 10\n",
            "  María envia a Lucía la cantidad de 20\n",
            "  Antonio envia a Ramón la cantidad de 30\n",
            "  Carmen envia a Marta la cantidad de 40\n",
            "\n",
            "Niveles del Merckle Tree:\n",
            "  Level 0:\n",
            "    6d84b95380981201807f01b53207747bb2d1e69b8fab3865db32b7df554153ff\n",
            "  Level 1:\n",
            "    a21abd09aaa11e0e32a209daa7fbd54f5f4ca24838167a58f49972295a04623b\n",
            "    73854883a00e4bfde544c29fc1f78c139f80074c109e307497db509c6cc4e5ee\n",
            "  Level 2:\n",
            "    eaf25202eacc17b609e7afb0e687994b8aec4e7be2f5c3fe1133145cffe20978\n",
            "    f83509de6ace20c946229280efa601ead5e6dfb70742da9aef29bf0c5494f2e5\n",
            "    2b45b7265fd7fff1021323d13d64f93e6cdf78d7b04a6aa05aaf0eae360bc40b\n",
            "    9f8846814eea1c3f9ea4037b3bcc4005c6cc6b6a57e114a360ca9b7bad97ae63\n",
            "\n",
            "Fin de bloque--------------------------------------------------------\n",
            "\n"
          ]
        }
      ],
      "source": [
        "print(bloque)"
      ]
    },
    {
      "cell_type": "markdown",
      "metadata": {
        "id": "nArP2ppT-kGa"
      },
      "source": [
        "# Blockchain con Árbol de Merkle para almacenar las transacciones\n",
        "\n",
        "Ahora vamos a unir todo el código que hemos visto en los pasos anteriores para crear una blockchain que hace uso de un árbol de Merkle para almacenar las transacciones."
      ]
    },
    {
      "cell_type": "code",
      "execution_count": 43,
      "metadata": {
        "colab": {
          "base_uri": "https://localhost:8080/"
        },
        "id": "HFGBv8lysR2A",
        "outputId": "8228dada-f532-4c8a-cfcf-a02c6be49dcb"
      },
      "outputs": [
        {
          "name": "stdout",
          "output_type": "stream",
          "text": [
            "\n",
            "=== Añadir nuevo bloque ===\n",
            "Número de transacciones en el bloque: 5\n",
            "Se generarán 5 transacciones para este bloque.\n",
            "\n",
            "Transacción 1:\n",
            "Remitente: Juan\n",
            "Destinatario: Pepe\n",
            "Cantidad: 10\n",
            "\n",
            "Transacción 2:\n",
            "Remitente: María\n",
            "Destinatario: Carmen\n",
            "Cantidad: 20\n",
            "\n",
            "Transacción 3:\n",
            "Remitente: Alfredo\n",
            "Destinatario: Manolo\n",
            "Cantidad: 30\n",
            "\n",
            "Transacción 4:\n",
            "Remitente: Carmen\n",
            "Destinatario: Valentina\n",
            "Cantidad: 40\n",
            "\n",
            "Transacción 5:\n",
            "Remitente: Manolo\n",
            "Destinatario: Paco\n",
            "Cantidad: 50\n",
            "\n",
            "Árbol de Merkle del nuevo bloque:\n",
            "Nivel 0:\n",
            "  247fedc60a70b11e48a2f44a33e21fba4d12b181d7c4139a9fdeb1507287b0d1\n",
            "Nivel 1:\n",
            "  4e82005fe2b10f67b5a0a639894b244c797b7765b04ce9d159786d3799cb9136\n",
            "  dc94950f8980a9379838e2a2b3fd0ab20ca46ee18e0d82c9bcf8d578029832da\n",
            "Nivel 2:\n",
            "  0daaa13f7f8630728d91e8ed0831d9efc588966760fb30407c95268c1dc225c7\n",
            "  233cac298957312c809306cbe4ac130d10e8048d6621d92a93a9da405863e42a\n",
            "  dc94950f8980a9379838e2a2b3fd0ab20ca46ee18e0d82c9bcf8d578029832da\n",
            "Nivel 3:\n",
            "  7f9a83396dbde451a487efffe7d49d839b542cbcae283a19719ef2f603026b7f\n",
            "  b4cdc3e34f1d4fac6c1bb8b9ab2de7b1502777d92bcc2cccefb2b12e38b6d2ab\n",
            "  bc827e689baae3acae3884e852fe9e42e7e2932613bf0d8fc6d2bfca732d01cf\n",
            "  2ce900b03e9ca817d684fbbd27bd5333d7021f025a46e140a5430f371f419e0a\n",
            "  dc94950f8980a9379838e2a2b3fd0ab20ca46ee18e0d82c9bcf8d578029832da\n",
            "Raíz de Merkle: 247fedc60a70b11e48a2f44a33e21fba4d12b181d7c4139a9fdeb1507287b0d1\n",
            "\n",
            "\n",
            "=== Blockchain Actualizada ===\n",
            "Bloque--------------------------------------------------------------------------------\n",
            "Hash previo: 00000000000000\n",
            "Marca de tiempo: 2025-05-13 00:52:34\n",
            "Raiz del Merkle Tree: \n",
            "Nonce: 2258\n",
            "Hash: 0006e2f891b6bf4e9de613683975b7bf20ca438b54143900d546f1be49d8664e\n",
            "Listado de transacciones:\n",
            "\n",
            "\n",
            "Niveles del Merckle Tree:\n",
            "\n",
            "Fin de bloque--------------------------------------------------------\n",
            "\n",
            "Bloque--------------------------------------------------------------------------------\n",
            "Hash previo: 0006e2f891b6bf4e9de613683975b7bf20ca438b54143900d546f1be49d8664e\n",
            "Marca de tiempo: 2025-05-13 00:53:28\n",
            "Raiz del Merkle Tree: 247fedc60a70b11e48a2f44a33e21fba4d12b181d7c4139a9fdeb1507287b0d1\n",
            "Nonce: 3376\n",
            "Hash: 000fd6c1a7fdb5732f6595e9beceec258c96970b7c5e7623279d7b95170ba62d\n",
            "Listado de transacciones:\n",
            "  Juan envia a Pepe la cantidad de 10.0\n",
            "  María envia a Carmen la cantidad de 20.0\n",
            "  Alfredo envia a Manolo la cantidad de 30.0\n",
            "  Carmen envia a Valentina la cantidad de 40.0\n",
            "  Manolo envia a Paco la cantidad de 50.0\n",
            "\n",
            "Niveles del Merckle Tree:\n",
            "  Level 0:\n",
            "    247fedc60a70b11e48a2f44a33e21fba4d12b181d7c4139a9fdeb1507287b0d1\n",
            "  Level 1:\n",
            "    4e82005fe2b10f67b5a0a639894b244c797b7765b04ce9d159786d3799cb9136\n",
            "    dc94950f8980a9379838e2a2b3fd0ab20ca46ee18e0d82c9bcf8d578029832da\n",
            "  Level 2:\n",
            "    0daaa13f7f8630728d91e8ed0831d9efc588966760fb30407c95268c1dc225c7\n",
            "    233cac298957312c809306cbe4ac130d10e8048d6621d92a93a9da405863e42a\n",
            "    dc94950f8980a9379838e2a2b3fd0ab20ca46ee18e0d82c9bcf8d578029832da\n",
            "  Level 3:\n",
            "    7f9a83396dbde451a487efffe7d49d839b542cbcae283a19719ef2f603026b7f\n",
            "    b4cdc3e34f1d4fac6c1bb8b9ab2de7b1502777d92bcc2cccefb2b12e38b6d2ab\n",
            "    bc827e689baae3acae3884e852fe9e42e7e2932613bf0d8fc6d2bfca732d01cf\n",
            "    2ce900b03e9ca817d684fbbd27bd5333d7021f025a46e140a5430f371f419e0a\n",
            "    dc94950f8980a9379838e2a2b3fd0ab20ca46ee18e0d82c9bcf8d578029832da\n",
            "\n",
            "Fin de bloque--------------------------------------------------------\n",
            "\n",
            "\n",
            "¿Desea añadir otro bloque? (s/n): s\n",
            "\n",
            "=== Añadir nuevo bloque ===\n",
            "Número de transacciones en el bloque: 2\n",
            "Se generarán 2 transacciones para este bloque.\n",
            "\n",
            "Transacción 1:\n",
            "Remitente: Pepe\n",
            "Destinatario: Pedro\n",
            "Cantidad: 11\n",
            "\n",
            "Transacción 2:\n",
            "Remitente: Claudia\n",
            "Destinatario: Sara\n",
            "Cantidad: 22\n",
            "\n",
            "Árbol de Merkle del nuevo bloque:\n",
            "Nivel 0:\n",
            "  942afb22fbdd57fb3427b2cc37b3b571c8b18fba117fc18e33cd5f6a567eef00\n",
            "Nivel 1:\n",
            "  7ba0fd87ee78b661be0fe6fa724de8ca4c11472eba868d46d3d1b05e34d992a2\n",
            "  74f2559f26be51ab88e0d8c4b1cf0f500863a9eedd7e77a954284ef3ee642ee6\n",
            "Raíz de Merkle: 942afb22fbdd57fb3427b2cc37b3b571c8b18fba117fc18e33cd5f6a567eef00\n",
            "\n",
            "\n",
            "=== Blockchain Actualizada ===\n",
            "Bloque--------------------------------------------------------------------------------\n",
            "Hash previo: 00000000000000\n",
            "Marca de tiempo: 2025-05-13 00:52:34\n",
            "Raiz del Merkle Tree: \n",
            "Nonce: 2258\n",
            "Hash: 0006e2f891b6bf4e9de613683975b7bf20ca438b54143900d546f1be49d8664e\n",
            "Listado de transacciones:\n",
            "\n",
            "\n",
            "Niveles del Merckle Tree:\n",
            "\n",
            "Fin de bloque--------------------------------------------------------\n",
            "\n",
            "Bloque--------------------------------------------------------------------------------\n",
            "Hash previo: 0006e2f891b6bf4e9de613683975b7bf20ca438b54143900d546f1be49d8664e\n",
            "Marca de tiempo: 2025-05-13 00:53:28\n",
            "Raiz del Merkle Tree: 247fedc60a70b11e48a2f44a33e21fba4d12b181d7c4139a9fdeb1507287b0d1\n",
            "Nonce: 3376\n",
            "Hash: 000fd6c1a7fdb5732f6595e9beceec258c96970b7c5e7623279d7b95170ba62d\n",
            "Listado de transacciones:\n",
            "  Juan envia a Pepe la cantidad de 10.0\n",
            "  María envia a Carmen la cantidad de 20.0\n",
            "  Alfredo envia a Manolo la cantidad de 30.0\n",
            "  Carmen envia a Valentina la cantidad de 40.0\n",
            "  Manolo envia a Paco la cantidad de 50.0\n",
            "\n",
            "Niveles del Merckle Tree:\n",
            "  Level 0:\n",
            "    247fedc60a70b11e48a2f44a33e21fba4d12b181d7c4139a9fdeb1507287b0d1\n",
            "  Level 1:\n",
            "    4e82005fe2b10f67b5a0a639894b244c797b7765b04ce9d159786d3799cb9136\n",
            "    dc94950f8980a9379838e2a2b3fd0ab20ca46ee18e0d82c9bcf8d578029832da\n",
            "  Level 2:\n",
            "    0daaa13f7f8630728d91e8ed0831d9efc588966760fb30407c95268c1dc225c7\n",
            "    233cac298957312c809306cbe4ac130d10e8048d6621d92a93a9da405863e42a\n",
            "    dc94950f8980a9379838e2a2b3fd0ab20ca46ee18e0d82c9bcf8d578029832da\n",
            "  Level 3:\n",
            "    7f9a83396dbde451a487efffe7d49d839b542cbcae283a19719ef2f603026b7f\n",
            "    b4cdc3e34f1d4fac6c1bb8b9ab2de7b1502777d92bcc2cccefb2b12e38b6d2ab\n",
            "    bc827e689baae3acae3884e852fe9e42e7e2932613bf0d8fc6d2bfca732d01cf\n",
            "    2ce900b03e9ca817d684fbbd27bd5333d7021f025a46e140a5430f371f419e0a\n",
            "    dc94950f8980a9379838e2a2b3fd0ab20ca46ee18e0d82c9bcf8d578029832da\n",
            "\n",
            "Fin de bloque--------------------------------------------------------\n",
            "\n",
            "Bloque--------------------------------------------------------------------------------\n",
            "Hash previo: 000fd6c1a7fdb5732f6595e9beceec258c96970b7c5e7623279d7b95170ba62d\n",
            "Marca de tiempo: 2025-05-13 00:53:57\n",
            "Raiz del Merkle Tree: 942afb22fbdd57fb3427b2cc37b3b571c8b18fba117fc18e33cd5f6a567eef00\n",
            "Nonce: 1852\n",
            "Hash: 0002478565a021ffddc107a7aaceb19a6a847343d75feb28dc1abc9e56b54dea\n",
            "Listado de transacciones:\n",
            "  Pepe envia a Pedro la cantidad de 11.0\n",
            "  Claudia envia a Sara la cantidad de 22.0\n",
            "\n",
            "Niveles del Merckle Tree:\n",
            "  Level 0:\n",
            "    942afb22fbdd57fb3427b2cc37b3b571c8b18fba117fc18e33cd5f6a567eef00\n",
            "  Level 1:\n",
            "    7ba0fd87ee78b661be0fe6fa724de8ca4c11472eba868d46d3d1b05e34d992a2\n",
            "    74f2559f26be51ab88e0d8c4b1cf0f500863a9eedd7e77a954284ef3ee642ee6\n",
            "\n",
            "Fin de bloque--------------------------------------------------------\n",
            "\n",
            "\n",
            "¿Desea añadir otro bloque? (s/n): n\n"
          ]
        }
      ],
      "source": [
        "import hashlib\n",
        "import time\n",
        "from typing import List, Dict\n",
        "\n",
        "# Clase para almacenar los datos de una transacción\n",
        "class Transaccion:\n",
        "    def __init__(self, pagador: str, receptor: str, cantidad: float):\n",
        "        self.pagador = pagador\n",
        "        self.receptor = receptor\n",
        "        self.cantidad = cantidad\n",
        "\n",
        "    # Devuelve los datos de la transacción en un diccionario\n",
        "    def convert_to_dict(self) -> Dict:\n",
        "        return {\n",
        "            'pagador': self.pagador,\n",
        "            'receptor': self.receptor,\n",
        "            'cantidad': self.cantidad\n",
        "        }\n",
        "\n",
        "    # Convertimos a un string el contenido de la transacción\n",
        "    def __str__(self) -> str:\n",
        "        return f\"{self.pagador} envia a {self.receptor} la cantidad de {self.cantidad}\"\n",
        "\n",
        "# Clase para implementar un árbol de Merkle que almacena las transacciones de un bloque.\n",
        "# Mirar los apuntes de EDA.\n",
        "class MerkleTree:\n",
        "    def __init__(self, l_transacciones: List[Transaccion]):\n",
        "        self.l_transacciones = l_transacciones\n",
        "        self.root, self.niveles = self.construir_merkle_tree()\n",
        "\n",
        "    def construir_merkle_tree(self) -> tuple[str, List[List[str]]]:\n",
        "        if not self.l_transacciones:\n",
        "            return \"\", []\n",
        "\n",
        "        # Generamos los hashs de la lista de transacciones (Versión Iterativa)\n",
        "        hojas = []\n",
        "        for tx in self.l_transacciones:\n",
        "            # (1) Convertimos la transacción en un diccionario: tx.convert_to_dict()\n",
        "            # (2) Convertimos el diccionario en una cadena: str(tx.convert_to_dict())\n",
        "            # (3) Convertimos la cadena a bytes: str(tx.to_dict()).encode()\n",
        "            # (4) Creamos el hash de la transacción y obtenemos su resumen en hexadecimal: hashlib.sha256(...).hexdigest()\n",
        "            hash_transaccion = hashlib.sha256(str(tx.convert_to_dict()).encode()).hexdigest()\n",
        "\n",
        "            # Añadimos el hash a la lista de hojas\n",
        "            hojas.append(hash_transaccion)\n",
        "\n",
        "        # Guardamos los niveles del árbol de Merkle\n",
        "        niveles = [hojas]\n",
        "\n",
        "        # Si son más transacciones, calculamos los hash de cada una de ellas y construimos el árbol\n",
        "        # Construimos el árbol, de abajo a arriba\n",
        "        # Acordaos de lo que habéis visto en EDA\n",
        "        nivel_actual = hojas\n",
        "        while len(nivel_actual) > 1:\n",
        "            nivel_temp = []\n",
        "            for i in range(0, len(nivel_actual), 2):\n",
        "                if i + 1 < len(nivel_actual):\n",
        "                    # Juntamos dos hojas\n",
        "                    combined = nivel_actual[i] + nivel_actual[i + 1]\n",
        "                    nuevo_hash = hashlib.sha256(combined.encode()).hexdigest()\n",
        "                    nivel_temp.append(nuevo_hash)\n",
        "                else:\n",
        "                    # Hoja impar primero\n",
        "                    nivel_temp.append(nivel_actual[i])\n",
        "            niveles.append(nivel_temp)\n",
        "            nivel_actual = nivel_temp\n",
        "\n",
        "        return nivel_actual[0], niveles\n",
        "\n",
        "    def mostrar_niveles(self) -> None:\n",
        "        print(\"\\nNiveles del Árbol de Merkle:\")\n",
        "        for idx, nivel in enumerate(reversed(self.niveles)):\n",
        "            print(f\"\\tNivel {idx} (desde la raíz):\")\n",
        "            for hash in nivel:\n",
        "                print(f\"\\t\\t{hash}\")\n",
        "\n",
        "# Clase para almacenar un bloque de la blockchain.\n",
        "# Incluye toda la información que se ha estudiado en el tema 2.\n",
        "class Bloque:\n",
        "    def __init__(self, hash_anterior: str, l_transacciones: List[Transaccion], marca_de_tiempo: str):\n",
        "        self.hash_anterior = hash_anterior\n",
        "        self.marca_de_tiempo = marca_de_tiempo\n",
        "        self.l_transacciones = l_transacciones\n",
        "        self.merkle_tree = MerkleTree(l_transacciones)\n",
        "        self.merkle_root = self.merkle_tree.root\n",
        "        self.merkle_niveles = self.merkle_tree.niveles  # Guardamos todos los niveles del árbol\n",
        "        self.nonce = 0\n",
        "        self.hash = self.proof_of_work() # El cálculo de hash válido es necesario, pero no sería necesario almacenarlo\n",
        "\n",
        "    # Calculamos el hash de los siguientes atributos del bloque:\n",
        "    # - hash_anterior, marca_de_tiempo, merkle_root y nonce\n",
        "    def calculate_hash(self) -> str:\n",
        "        block_string = f\"{self.hash_anterior}{self.marca_de_tiempo}{self.merkle_root}{self.nonce}\"\n",
        "        return hashlib.sha256(block_string.encode()).hexdigest()\n",
        "\n",
        "    # Método que realiza la PoW (Proof of Work)\n",
        "    # Busca el número mágico (nonce) para conseguir un hash con el número inicial de 0s requerido.\n",
        "    # Es como la lotería. El que encuentre este número, gana y puede añadir el bloque.\n",
        "    # Con esto dificultamos el añadir bloques a un asaltante.\n",
        "    # Cuanto mayor número de 0s, más dificultad y más tiempo.\n",
        "    def proof_of_work(self) -> str:\n",
        "        while True:\n",
        "            hash_result = self.calculate_hash()\n",
        "            if hash_result.startswith(\"000\"):\n",
        "                return hash_result\n",
        "            self.nonce += 1\n",
        "\n",
        "    def __str__(self) -> str:\n",
        "        # Creamos una cadena con los niveles del árbol de hashes en el bloque\n",
        "        # La función reversed devuelve la lista en orden inverso sin modificar la lista original.\n",
        "        # La función enumerate nos permite iterar sobre la lista devolviendo el índice y el valor que hay en esa posición.\n",
        "        merkle_tree_str = \"\\nNiveles del Merckle Tree:\\n\"\n",
        "        for i, level in enumerate(reversed(self.merkle_niveles)):\n",
        "            merkle_tree_str += f\"  Level {i}:\\n\"\n",
        "            for hash_val in level:\n",
        "                merkle_tree_str += f\"    {hash_val}\\n\"\n",
        "\n",
        "        return (\n",
        "            f\"Bloque--------------------------------------------------------------------------------\\n\"\n",
        "            f\"Hash previo: {self.hash_anterior}\\n\"\n",
        "            f\"Marca de tiempo: {self.marca_de_tiempo}\\n\"\n",
        "            f\"Raiz del Merkle Tree: {self.merkle_root}\\n\"\n",
        "            f\"Nonce: {self.nonce}\\n\"\n",
        "            f\"Hash: {self.hash}\\n\" # Guardamos el hash, aunque no sería necesario\n",
        "            f\"Listado de transacciones:\\n\" +\n",
        "            \"\\n\".join([f\"  {tx}\" for tx in self.l_transacciones]) + \"\\n\" +\n",
        "            merkle_tree_str + \"\\n\" + f\"Fin de bloque--------------------------------------------------------\\n\"\n",
        "\n",
        "        )\n",
        "\n",
        "# Clase para implementar la blockchain\n",
        "class Blockchain:\n",
        "    def __init__(self):\n",
        "        # Una lista enlazada\n",
        "        self.chain = [self.crea_bloque_genesis()]\n",
        "\n",
        "    def crea_bloque_genesis(self) -> Bloque:\n",
        "        return Bloque(\"00000000000000\", [], time.strftime(\"%Y-%m-%d %H:%M:%S\"))\n",
        "\n",
        "    def obtener_ultimo_bloque(self) -> Bloque:\n",
        "        return self.chain[-1]\n",
        "\n",
        "    def append_bloque(self, l_transacciones: List[Transaccion]):\n",
        "        nuevo_bloque = Bloque(\n",
        "            hash_anterior = self.obtener_ultimo_bloque().hash,\n",
        "            l_transacciones = l_transacciones,\n",
        "            marca_de_tiempo = time.strftime(\"%Y-%m-%d %H:%M:%S\")\n",
        "        )\n",
        "\n",
        "        self.chain.append(nuevo_bloque)\n",
        "\n",
        "        # Print Merkle Tree for the new block\n",
        "        print(\"\\nÁrbol de Merkle del nuevo bloque:\")\n",
        "        for i, nivel in enumerate(reversed(nuevo_bloque.merkle_niveles)):\n",
        "            print(f\"Nivel {i}:\")\n",
        "            for valor_de_hash in nivel:\n",
        "                print(f\"  {valor_de_hash}\")\n",
        "        print(f\"Raíz de Merkle: {nuevo_bloque.merkle_root}\\n\")\n",
        "\n",
        "    def __str__(self) -> str:\n",
        "        return \"\\n\".join([str(bloque) for bloque in self.chain])\n",
        "\n",
        "# Programa principal\n",
        "def main():\n",
        "    blockchain = Blockchain()\n",
        "\n",
        "    while True:\n",
        "        print(\"\\n=== Añadir nuevo bloque ===\")\n",
        "        while True:\n",
        "                try:\n",
        "                    num_transacciones = abs(int(input(\"Número de transacciones en el bloque: \")))\n",
        "                    break\n",
        "                except ValueError:\n",
        "                    print(\"Por favor, introduce un número válido.\")\n",
        "\n",
        "        print(f\"Se generarán {num_transacciones} transacciones para este bloque.\")\n",
        "\n",
        "        l_transacciones = []\n",
        "        for i in range(num_transacciones):\n",
        "            print(f\"\\nTransacción {i + 1}:\")\n",
        "            pagador = input(\"Remitente: \")\n",
        "            receptor = input(\"Destinatario: \")\n",
        "            while True:\n",
        "                try:\n",
        "                    cantidad = float(input(\"Cantidad: \"))\n",
        "                    break\n",
        "                except ValueError:\n",
        "                    print(\"Por favor, introduce un número válido.\")\n",
        "\n",
        "            l_transacciones.append(Transaccion(pagador, receptor, cantidad))\n",
        "\n",
        "        blockchain.append_bloque(l_transacciones)\n",
        "        print(\"\\n=== Blockchain Actualizada ===\")\n",
        "        print(blockchain)\n",
        "\n",
        "        eleccion = input(\"\\n¿Desea añadir otro bloque? (s/n): \").lower()\n",
        "        if eleccion != 's':\n",
        "            break\n",
        "\n",
        "if __name__ == \"__main__\":\n",
        "    main()"
      ]
    }
  ],
  "metadata": {
    "colab": {
      "provenance": []
    },
    "kernelspec": {
      "display_name": "Python 3",
      "name": "python3"
    },
    "language_info": {
      "name": "python"
    }
  },
  "nbformat": 4,
  "nbformat_minor": 0
}
